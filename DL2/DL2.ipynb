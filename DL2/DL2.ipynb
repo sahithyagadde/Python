{
  "nbformat": 4,
  "nbformat_minor": 0,
  "metadata": {
    "colab": {
      "name": "DL2.ipynb",
      "provenance": []
    },
    "kernelspec": {
      "name": "python3",
      "display_name": "Python 3"
    }
  },
  "cells": [
    {
      "cell_type": "code",
      "metadata": {
        "id": "xY0KFz3od3W9",
        "colab_type": "code",
        "outputId": "48dc37c9-3da6-4943-8fc3-b069e483f5f9",
        "colab": {
          "base_uri": "https://localhost:8080/",
          "height": 808
        }
      },
      "source": [
        "from keras.datasets import mnist\n",
        "import numpy as np\n",
        "from tensorflow.python.keras.layers import Dense\n",
        "from tensorflow.python.keras import Sequential\n",
        "import matplotlib.pyplot as plt\n",
        "from keras.utils import to_categorical\n",
        "\n",
        "(train_images,train_labels),(test_images, test_labels) = mnist.load_data()\n",
        "#display the first image in the training data\n",
        "plt.imshow(train_images[0,:,:],cmap='gray')\n",
        "plt.title('Ground Truth : {}'.format(train_labels[0]))\n",
        "plt.show()\n",
        "\n",
        "#process the data\n",
        "#1. convert each image of shape 28*28 to 784 dimensional which will be fed to the network as a single feature\n",
        "dimData = np.prod(train_images.shape[1:])\n",
        "train_data = train_images.reshape(train_images.shape[0],dimData)\n",
        "test_data = test_images.reshape(test_images.shape[0],dimData)\n",
        "\n",
        "#convert data to float and scale values between 0 and 1\n",
        "train_data = train_data.astype('float')\n",
        "test_data = test_data.astype('float')\n",
        "#scale data\n",
        "train_data /=255.0\n",
        "test_data /=255.0\n",
        "#change the labels frominteger to one-hot encoding\n",
        "train_labels_one_hot = to_categorical(train_labels)\n",
        "test_labels_one_hot = to_categorical(test_labels)\n",
        "\n",
        "#creating network\n",
        "visible = Input(shape=(dimData,))\n",
        "hidden = Dense(dimData)(visible)\n",
        "model = Model(inputs=visible, outputs=hidden)\n",
        "hidden1 = Dense(512, activation='relu')(visible)\n",
        "hidden2 = Dense(512, activation='relu')(hidden1)\n",
        "hidden3 = Dense(512, activation='relu')(hidden2)\n",
        "output = Dense(10, activation='sigmoid')(hidden3)\n",
        "model = Model(inputs=visible, outputs=output)\n",
        "# summarize layers\n",
        "print(model.summary())\n",
        "# plot graph\n",
        "model.compile(optimizer='rmsprop', loss='categorical_crossentropy', metrics=['accuracy'])\n",
        "history = model.fit(train_data, train_labels_one_hot, batch_size=256, epochs=5, verbose=1,\n",
        "                   validation_data=(test_data, test_labels_one_hot))\n",
        "\n",
        "# print(model.predict_classes(test_data[[0],:]))\n",
        "\n",
        "[test_loss, test_acc] = model.evaluate(test_data, test_labels_one_hot)\n",
        "print(\"Evaluation result on Test Data : Loss = {}, accuracy = {}\".format(test_loss, test_acc))\n"
      ],
      "execution_count": 5,
      "outputs": [
        {
          "output_type": "display_data",
          "data": {
            "image/png": "[encoded data removed]",
            "text/plain": [
              "<Figure size 432x288 with 1 Axes>"
            ]
          },
          "metadata": {
            "tags": []
          }
        },
        {
          "output_type": "stream",
          "text": [
            "Model: \"model_1\"\n",
            "_________________________________________________________________\n",
            "Layer (type)                 Output Shape              Param #   \n",
            "=================================================================\n",
            "input_1 (InputLayer)         [(None, 784)]             0         \n",
            "_________________________________________________________________\n",
            "dense_1 (Dense)              (None, 512)               401920    \n",
            "_________________________________________________________________\n",
            "dense_2 (Dense)              (None, 512)               262656    \n",
            "_________________________________________________________________\n",
            "dense_3 (Dense)              (None, 512)               262656    \n",
            "_________________________________________________________________\n",
            "dense_4 (Dense)              (None, 10)                5130      \n",
            "=================================================================\n",
            "Total params: 932,362\n",
            "Trainable params: 932,362\n",
            "Non-trainable params: 0\n",
            "_________________________________________________________________\n",
            "None\n",
            "Epoch 1/5\n",
            "235/235 [==============================] - 8s 35ms/step - loss: 0.3190 - accuracy: 0.9007 - val_loss: 0.1550 - val_accuracy: 0.9509\n",
            "Epoch 2/5\n",
            "235/235 [==============================] - 8s 35ms/step - loss: 0.1008 - accuracy: 0.9694 - val_loss: 0.1027 - val_accuracy: 0.9693\n",
            "Epoch 3/5\n",
            "235/235 [==============================] - 8s 35ms/step - loss: 0.0642 - accuracy: 0.9803 - val_loss: 0.0856 - val_accuracy: 0.9747\n",
            "Epoch 4/5\n",
            "235/235 [==============================] - 8s 35ms/step - loss: 0.0462 - accuracy: 0.9855 - val_loss: 0.0812 - val_accuracy: 0.9770\n",
            "Epoch 5/5\n",
            "235/235 [==============================] - 8s 35ms/step - loss: 0.0343 - accuracy: 0.9894 - val_loss: 0.0900 - val_accuracy: 0.9766\n",
            "313/313 [==============================] - 1s 4ms/step - loss: 0.0920 - accuracy: 0.9766\n",
            "Evaluation result on Test Data : Loss = 0.09203898906707764, accuracy = 0.9765999913215637\n"
          ],
          "name": "stdout"
        }
      ]
    },
    {
      "cell_type": "code",
      "metadata": {
        "id": "XO1R4fMtehDc",
        "colab_type": "code",
        "colab": {
          "base_uri": "https://localhost:8080/",
          "height": 573
        },
        "outputId": "c3e33824-7e3f-477a-95ca-52777694660e"
      },
      "source": [
        "\n",
        "import matplotlib.pyplot as plt\n",
        "from keras.datasets import mnist\n",
        "import numpy as np\n",
        "from tensorflow.python.keras.layers import Dense\n",
        "from tensorflow.python.keras import Sequential\n",
        "import matplotlib.pyplot as plt\n",
        "from keras.utils import to_categorical\n",
        "\n",
        "(train_images, train_labels), (test_images, test_labels) = mnist.load_data()\n",
        "# display the first image in the training data\n",
        "plt.imshow(test_images[0, :, :], cmap='gray')\n",
        "plt.title('Ground Truth : {}'.format(test_labels[0]))\n",
        "plt.show()\n",
        "\n",
        "# process the data\n",
        "# 1. convert each image of shape 28*28 to 784 dimensional which will be fed to the network as a single feature\n",
        "dimData = np.prod(train_images.shape[1:])\n",
        "train_data = train_images.reshape(train_images.shape[0], dimData)\n",
        "test_data = test_images.reshape(test_images.shape[0], dimData)\n",
        "\n",
        "# convert data to float and scale values between 0 and 1\n",
        "train_data = train_data.astype('float')\n",
        "test_data = test_data.astype('float')\n",
        "# scale data\n",
        "train_data /= 255.0\n",
        "test_data /= 255.0\n",
        "# change the labels frominteger to one-hot encoding\n",
        "train_labels_one_hot = to_categorical(train_labels)\n",
        "test_labels_one_hot = to_categorical(test_labels)\n",
        "\n",
        "# creating network\n",
        "model = Sequential()\n",
        "model.add(Dense(512, activation='relu', input_shape=(dimData,)))\n",
        "model.add(Dense(512, activation='relu'))\n",
        "model.add(Dense(10, activation='softmax'))\n",
        "\n",
        "model.compile(optimizer='rmsprop', loss='categorical_crossentropy', metrics=['accuracy'])\n",
        "history = model.fit(train_data, train_labels_one_hot, batch_size=256, epochs=5, verbose=1,\n",
        "                    validation_data=(test_data, test_labels_one_hot))\n",
        "\n",
        "[test_loss, test_acc] = model.evaluate(test_data, test_labels_one_hot)\n",
        "print(\"Evaluation result on Test Data : Loss = {}, accuracy = {}\".format(test_loss, test_acc))\n",
        "img_class = model.predict_classes(test_data[[0], :])\n",
        "prediction = img_class[0]\n",
        "classname = img_class[0]\n",
        "print(\"Class: \", classname)"
      ],
      "execution_count": 6,
      "outputs": [
        {
          "output_type": "display_data",
          "data": {
            "image/png": "[encoded data removed]",
            "text/plain": [
              "<Figure size 432x288 with 1 Axes>"
            ]
          },
          "metadata": {
            "tags": []
          }
        },
        {
          "output_type": "stream",
          "text": [
            "Epoch 1/5\n",
            "235/235 [==============================] - 6s 25ms/step - loss: 0.2735 - accuracy: 0.9160 - val_loss: 0.2124 - val_accuracy: 0.9286\n",
            "Epoch 2/5\n",
            "235/235 [==============================] - 6s 25ms/step - loss: 0.0931 - accuracy: 0.9714 - val_loss: 0.1134 - val_accuracy: 0.9641\n",
            "Epoch 3/5\n",
            "235/235 [==============================] - 6s 25ms/step - loss: 0.0591 - accuracy: 0.9812 - val_loss: 0.1003 - val_accuracy: 0.9668\n",
            "Epoch 4/5\n",
            "235/235 [==============================] - 6s 25ms/step - loss: 0.0399 - accuracy: 0.9875 - val_loss: 0.1048 - val_accuracy: 0.9692\n",
            "Epoch 5/5\n",
            "235/235 [==============================] - 6s 25ms/step - loss: 0.0294 - accuracy: 0.9907 - val_loss: 0.0815 - val_accuracy: 0.9755\n",
            "313/313 [==============================] - 1s 3ms/step - loss: 0.0833 - accuracy: 0.9755\n",
            "Evaluation result on Test Data : Loss = 0.08329327404499054, accuracy = 0.9754999876022339\n",
            "WARNING:tensorflow:From <ipython-input-6-fb54bd4f2f01>:44: Sequential.predict_classes (from tensorflow.python.keras.engine.sequential) is deprecated and will be removed after 2021-01-01.\n",
            "Instructions for updating:\n",
            "Please use instead:* `np.argmax(model.predict(x), axis=-1)`,   if your model does multi-class classification   (e.g. if it uses a `softmax` last-layer activation).* `(model.predict(x) > 0.5).astype(\"int32\")`,   if your model does binary classification   (e.g. if it uses a `sigmoid` last-layer activation).\n",
            "Class:  7\n"
          ],
          "name": "stdout"
        }
      ]
    },
    {
      "cell_type": "code",
      "metadata": {
        "id": "TdeI2G4Fe3J9",
        "colab_type": "code",
        "colab": {
          "base_uri": "https://localhost:8080/",
          "height": 485
        },
        "outputId": "3ade9751-7515-4542-8a8c-be0cf1877344"
      },
      "source": [
        "\n",
        "import matplotlib.pyplot as plt\n",
        "from keras.datasets import mnist\n",
        "import numpy as np\n",
        "from tensorflow.python.keras.layers import Dense\n",
        "from tensorflow.python.keras import Sequential\n",
        "import matplotlib.pyplot as plt\n",
        "from keras.utils import to_categorical\n",
        "\n",
        "(train_images,train_labels),(test_images, test_labels) = mnist.load_data()\n",
        "#display the first image in the training data\n",
        "plt.imshow(train_images[0,:,:],cmap='gray')\n",
        "plt.title('Ground Truth : {}'.format(train_labels[0]))\n",
        "# plt.show()\n",
        "\n",
        "#process the data\n",
        "#1. convert each image of shape 28*28 to 784 dimensional which will be fed to the network as a single feature\n",
        "dimData = np.prod(train_images.shape[1:])\n",
        "train_data = train_images.reshape(train_images.shape[0],dimData)\n",
        "test_data = test_images.reshape(test_images.shape[0],dimData)\n",
        "\n",
        "#convert data to float and scale values between 0 and 1\n",
        "train_data = train_data.astype('float')\n",
        "test_data = test_data.astype('float')\n",
        "#scale data\n",
        "train_data /=255.0\n",
        "test_data /=255.0\n",
        "#change the labels frominteger to one-hot encoding\n",
        "train_labels_one_hot = to_categorical(train_labels)\n",
        "test_labels_one_hot = to_categorical(test_labels)\n",
        "\n",
        "#creating network\n",
        "model = Sequential()\n",
        "model.add(Dense(512, activation='tanh', input_shape=(dimData,)))\n",
        "model.add(Dense(512, activation='tanh'))\n",
        "model.add(Dense(600, activation='tanh'))\n",
        "model.add(Dense(10, activation='softmax'))\n",
        "\n",
        "model.compile(optimizer='rmsprop', loss='categorical_crossentropy', metrics=['accuracy'])\n",
        "history = model.fit(train_data, train_labels_one_hot, batch_size=256, epochs=5, verbose=1,\n",
        "                   validation_data=(test_data, test_labels_one_hot))\n",
        "\n",
        "[test_loss, test_acc] = model.evaluate(test_data, test_labels_one_hot)\n",
        "print(\"Evaluation result on Test Data : Loss = {}, accuracy = {}\".format(test_loss, test_acc))"
      ],
      "execution_count": 7,
      "outputs": [
        {
          "output_type": "stream",
          "text": [
            "Epoch 1/5\n",
            "235/235 [==============================] - 9s 37ms/step - loss: 0.4169 - accuracy: 0.8733 - val_loss: 0.2795 - val_accuracy: 0.9076\n",
            "Epoch 2/5\n",
            "235/235 [==============================] - 9s 37ms/step - loss: 0.1577 - accuracy: 0.9523 - val_loss: 0.1528 - val_accuracy: 0.9498\n",
            "Epoch 3/5\n",
            "235/235 [==============================] - 9s 37ms/step - loss: 0.0990 - accuracy: 0.9687 - val_loss: 0.1276 - val_accuracy: 0.9586\n",
            "Epoch 4/5\n",
            "235/235 [==============================] - 9s 37ms/step - loss: 0.0702 - accuracy: 0.9775 - val_loss: 0.0774 - val_accuracy: 0.9749\n",
            "Epoch 5/5\n",
            "235/235 [==============================] - 9s 37ms/step - loss: 0.0495 - accuracy: 0.9846 - val_loss: 0.0717 - val_accuracy: 0.9764\n",
            "313/313 [==============================] - 1s 4ms/step - loss: 0.0730 - accuracy: 0.9764\n",
            "Evaluation result on Test Data : Loss = 0.07296795397996902, accuracy = 0.9764000177383423\n"
          ],
          "name": "stdout"
        },
        {
          "output_type": "display_data",
          "data": {
            "image/png": "[encoded data removed]",
            "text/plain": [
              "<Figure size 432x288 with 1 Axes>"
            ]
          },
          "metadata": {
            "tags": []
          }
        }
      ]
    },
    {
      "cell_type": "code",
      "metadata": {
        "id": "we5oZREgfCeI",
        "colab_type": "code",
        "colab": {
          "base_uri": "https://localhost:8080/",
          "height": 485
        },
        "outputId": "ef08a058-e13f-4d4d-ccf4-8c9424ec72d5"
      },
      "source": [
        "import matplotlib.pyplot as plt\n",
        "from keras.datasets import mnist\n",
        "import numpy as np\n",
        "from tensorflow.python.keras.layers import Dense\n",
        "from tensorflow.python.keras import Sequential\n",
        "import matplotlib.pyplot as plt\n",
        "from keras.utils import to_categorical\n",
        "(train_images,train_labels),(test_images, test_labels) = mnist.load_data()\n",
        "#display the first image in the training data\n",
        "plt.imshow(train_images[0,:,:],cmap='gray')\n",
        "plt.title('Ground Truth : {}'.format(train_labels[0]))\n",
        "# plt.show()\n",
        "\n",
        "#process the data\n",
        "#1. convert each image of shape 28*28 to 784 dimensional which will be fed to the network as a single feature\n",
        "dimData = np.prod(train_images.shape[1:])\n",
        "train_data = train_images.reshape(train_images.shape[0],dimData)\n",
        "test_data = test_images.reshape(test_images.shape[0],dimData)\n",
        "\n",
        "#convert data to float and scale values between 0 and 1\n",
        "train_data = train_data.astype('float')\n",
        "test_data = test_data.astype('float')\n",
        "#scale data\n",
        "#train_data /=255.0\n",
        "#test_data /=255.0\n",
        "#change the labels frominteger to one-hot encoding\n",
        "train_labels_one_hot = to_categorical(train_labels)\n",
        "test_labels_one_hot = to_categorical(test_labels)\n",
        "\n",
        "#creating network\n",
        "model = Sequential()\n",
        "model.add(Dense(512, activation='tanh', input_shape=(dimData,)))\n",
        "model.add(Dense(512, activation='tanh'))\n",
        "#model.add(Dense(600, activation='tanh'))\n",
        "model.add(Dense(10, activation='softmax'))\n",
        "\n",
        "model.compile(optimizer='rmsprop', loss='categorical_crossentropy', metrics=['accuracy'])\n",
        "history = model.fit(train_data, train_labels_one_hot, batch_size=256, epochs=5, verbose=1,\n",
        "                   validation_data=(test_data, test_labels_one_hot))\n",
        "\n",
        "[test_loss, test_acc] = model.evaluate(test_data, test_labels_one_hot)\n",
        "print(\"Evaluation result on Test Data : Loss = {}, accuracy = {}\".format(test_loss, test_acc))\n"
      ],
      "execution_count": 8,
      "outputs": [
        {
          "output_type": "stream",
          "text": [
            "Epoch 1/5\n",
            "235/235 [==============================] - 6s 25ms/step - loss: 0.4044 - accuracy: 0.8722 - val_loss: 0.2655 - val_accuracy: 0.9175\n",
            "Epoch 2/5\n",
            "235/235 [==============================] - 6s 24ms/step - loss: 0.2044 - accuracy: 0.9372 - val_loss: 0.1909 - val_accuracy: 0.9394\n",
            "Epoch 3/5\n",
            "235/235 [==============================] - 6s 25ms/step - loss: 0.1532 - accuracy: 0.9518 - val_loss: 0.1449 - val_accuracy: 0.9555\n",
            "Epoch 4/5\n",
            "235/235 [==============================] - 6s 25ms/step - loss: 0.1315 - accuracy: 0.9583 - val_loss: 0.1872 - val_accuracy: 0.9394\n",
            "Epoch 5/5\n",
            "235/235 [==============================] - 6s 24ms/step - loss: 0.1115 - accuracy: 0.9655 - val_loss: 0.1252 - val_accuracy: 0.9611\n",
            "313/313 [==============================] - 1s 3ms/step - loss: 0.1275 - accuracy: 0.9611\n",
            "Evaluation result on Test Data : Loss = 0.12752793729305267, accuracy = 0.9610999822616577\n"
          ],
          "name": "stdout"
        },
        {
          "output_type": "display_data",
          "data": {
            "image/png": "[encoded data removed]",
            "text/plain": [
              "<Figure size 432x288 with 1 Axes>"
            ]
          },
          "metadata": {
            "tags": []
          }
        }
      ]
    },
    {
      "cell_type": "code",
      "metadata": {
        "id": "-uDSrxK8fDQ9",
        "colab_type": "code",
        "colab": {
          "base_uri": "https://localhost:8080/",
          "height": 828
        },
        "outputId": "a8c3001c-bd70-47d1-9208-b74e8ab20fe2"
      },
      "source": [
        "import matplotlib.pyplot as plt\n",
        "from keras.datasets import mnist\n",
        "import numpy as np\n",
        "from tensorflow.python.keras.layers import Dense\n",
        "from tensorflow.python.keras import Sequential\n",
        "import matplotlib.pyplot as plt\n",
        "from keras.utils import to_categorical\n",
        "(train_images,train_labels),(test_images, test_labels) = mnist.load_data()\n",
        "#display the first image in the training data\n",
        "plt.imshow(train_images[0,:,:],cmap='gray')\n",
        "plt.title('Ground Truth : {}'.format(train_labels[0]))\n",
        "plt.show()\n",
        "\n",
        "#process the data\n",
        "#1. convert each image of shape 28*28 to 784 dimensional which will be fed to the network as a single feature\n",
        "dimData = np.prod(train_images.shape[1:])\n",
        "train_data = train_images.reshape(train_images.shape[0],dimData)\n",
        "test_data = test_images.reshape(test_images.shape[0],dimData)\n",
        "\n",
        "#convert data to float and scale values between 0 and 1\n",
        "train_data = train_data.astype('float')\n",
        "test_data = test_data.astype('float')\n",
        "#scale data\n",
        "train_data /=255.0\n",
        "test_data /=255.0\n",
        "#change the labels frominteger to one-hot encoding\n",
        "train_labels_one_hot = to_categorical(train_labels)\n",
        "test_labels_one_hot = to_categorical(test_labels)\n",
        "\n",
        "#creating network\n",
        "visible = Input(shape=(dimData,))\n",
        "hidden = Dense(dimData)(visible)\n",
        "model = Model(inputs=visible, outputs=hidden)\n",
        "hidden1 = Dense(512, activation='relu')(visible)\n",
        "hidden2 = Dense(512, activation='relu')(hidden1)\n",
        "hidden3 = Dense(512, activation='relu')(hidden2)\n",
        "output = Dense(10, activation='sigmoid')(hidden3)\n",
        "model = Model(inputs=visible, outputs=output)\n",
        "# summarize layers\n",
        "print(model.summary())\n",
        "# plot graph\n",
        "model.compile(optimizer='rmsprop', loss='categorical_crossentropy', metrics=['accuracy'])\n",
        "history = model.fit(train_data, train_labels_one_hot, batch_size=256, epochs=5, verbose=1,\n",
        "                   validation_data=(test_data, test_labels_one_hot))\n",
        "\n",
        "# print(model.predict_classes(test_data[[0],:]))\n",
        "\n",
        "[test_loss, test_acc] = model.evaluate(test_data, test_labels_one_hot)\n",
        "print(\"Evaluation result on Test Data : Loss = {}, accuracy = {}\".format(test_loss, test_acc))\n"
      ],
      "execution_count": 9,
      "outputs": [
        {
          "output_type": "display_data",
          "data": {
            "image/png": "[encoded data removed]",
            "text/plain": [
              "<Figure size 432x288 with 1 Axes>"
            ]
          },
          "metadata": {
            "tags": []
          }
        },
        {
          "output_type": "stream",
          "text": [
            "Model: \"model_3\"\n",
            "_________________________________________________________________\n",
            "Layer (type)                 Output Shape              Param #   \n",
            "=================================================================\n",
            "input_2 (InputLayer)         [(None, 784)]             0         \n",
            "_________________________________________________________________\n",
            "dense_16 (Dense)             (None, 512)               401920    \n",
            "_________________________________________________________________\n",
            "dense_17 (Dense)             (None, 512)               262656    \n",
            "_________________________________________________________________\n",
            "dense_18 (Dense)             (None, 512)               262656    \n",
            "_________________________________________________________________\n",
            "dense_19 (Dense)             (None, 10)                5130      \n",
            "=================================================================\n",
            "Total params: 932,362\n",
            "Trainable params: 932,362\n",
            "Non-trainable params: 0\n",
            "_________________________________________________________________\n",
            "None\n",
            "Epoch 1/5\n",
            "235/235 [==============================] - 8s 35ms/step - loss: 0.3296 - accuracy: 0.8971 - val_loss: 0.1607 - val_accuracy: 0.9496\n",
            "Epoch 2/5\n",
            "235/235 [==============================] - 8s 35ms/step - loss: 0.1038 - accuracy: 0.9684 - val_loss: 0.1531 - val_accuracy: 0.9563\n",
            "Epoch 3/5\n",
            "235/235 [==============================] - 8s 35ms/step - loss: 0.0632 - accuracy: 0.9806 - val_loss: 0.1171 - val_accuracy: 0.9673\n",
            "Epoch 4/5\n",
            "235/235 [==============================] - 8s 35ms/step - loss: 0.0473 - accuracy: 0.9858 - val_loss: 0.0841 - val_accuracy: 0.9766\n",
            "Epoch 5/5\n",
            "235/235 [==============================] - 8s 35ms/step - loss: 0.0361 - accuracy: 0.9887 - val_loss: 0.0739 - val_accuracy: 0.9809\n",
            "313/313 [==============================] - 1s 3ms/step - loss: 0.0753 - accuracy: 0.9809\n",
            "Evaluation result on Test Data : Loss = 0.0752670168876648, accuracy = 0.98089998960495\n"
          ],
          "name": "stdout"
        }
      ]
    }
  ]
}