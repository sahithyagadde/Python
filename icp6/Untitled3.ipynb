{
  "nbformat": 4,
  "nbformat_minor": 0,
  "metadata": {
    "colab": {
      "name": "Untitled3.ipynb",
      "provenance": [],
      "toc_visible": true
    },
    "kernelspec": {
      "name": "python3",
      "display_name": "Python 3"
    }
  },
  "cells": [
    {
      "cell_type": "code",
      "metadata": {
        "id": "aA_HAwK0ySpJ",
        "colab_type": "code",
        "colab": {
          "base_uri": "https://localhost:8080/",
          "height": 1000
        },
        "outputId": "00f98bde-ec14-4dba-cfd0-5fd1b24b5b51"
      },
      "source": [
        "import pandas as pd\n",
        "import numpy as np\n",
        "from sklearn.decomposition import PCA\n",
        "from sklearn.preprocessing import LabelEncoder, StandardScaler\n",
        "import matplotlib.pyplot as plt\n",
        "import seaborn as sns\n",
        "sns.set(style=\"white\", color_codes=True)\n",
        "import warnings\n",
        "warnings.filterwarnings(\"ignore\")\n",
        "dataset = pd.read_csv('CC.csv')\n",
        "x= dataset.iloc[:,[1,2,3,4,5,6,7,8,9,10,11,12,13,14,15,16]]\n",
        "y= dataset.iloc[:,-1]\n",
        "print(x.shape,y.shape)\n",
        "print(dataset[\"TENURE\"].value_counts())\n",
        "from sklearn.cluster import KMeans\n",
        "nulls = pd.DataFrame(x.isnull().sum().sort_values(ascending=False)[:25])\n",
        "nulls.columns = ['Null Count']\n",
        "nulls.index.name = 'Feature'\n",
        "print(nulls)\n",
        "x = x.select_dtypes(include=[np.number]).interpolate().dropna()\n",
        "nulls = pd.DataFrame(x.isnull().sum().sort_values(ascending=False)[:25])\n",
        "nulls.columns = ['Null Count']\n",
        "nulls.index.name = 'Feature'\n",
        "print(nulls)\n",
        "from sklearn.cluster import KMeans\n",
        "nclusters = 3 \n",
        "km = KMeans(n_clusters=nclusters)\n",
        "km.fit(x)\n",
        "\n",
        "y_cluster_kmeans = km.predict(x)\n",
        "from sklearn import metrics\n",
        "score = metrics.silhouette_score(x, y_cluster_kmeans)\n",
        "print(\"Silhoutte Score without scaling: \" + str(score))\n",
        "from sklearn import preprocessing\n",
        "scaler = preprocessing.StandardScaler()\n",
        "scaler.fit(x)\n",
        "X_scaled_array = scaler.transform(x)\n",
        "X_scaled = pd.DataFrame(X_scaled_array, columns = x.columns)\n",
        "from sklearn.cluster import KMeans\n",
        "nclusters = 3 \n",
        "km = KMeans(n_clusters=nclusters)\n",
        "km.fit(X_scaled)\n",
        "y_cluster_kmeans = km.predict(X_scaled)\n",
        "from sklearn import metrics\n",
        "score = metrics.silhouette_score(X_scaled, y_cluster_kmeans)\n",
        "print(\"Silhoutte Score after scaling: \" + str(score))\n",
        "wcss = []\n",
        "for i in range(1,11):\n",
        "    kmeans = KMeans(n_clusters=i,init='k-means++',max_iter=300,n_init=10,random_state=0)\n",
        "    kmeans.fit(x)\n",
        "    wcss.append(kmeans.inertia_)\n",
        "\n",
        "plt.plot(range(1,11),wcss)\n",
        "plt.title('the elbow method')\n",
        "plt.xlabel('Number of Clusters')\n",
        "plt.ylabel('Wcss')\n",
        "plt.show()\n",
        "\n",
        "from sklearn.preprocessing import StandardScaler\n",
        "\n",
        "\n",
        "scaler = StandardScaler()\n",
        "\n",
        "scaler.fit(x)\n",
        "x_scaler = scaler.transform(x)\n",
        "pca = PCA(2)\n",
        "x_pca = pca.fit_transform(x_scaler)\n",
        "df2 = pd.DataFrame(data=x_pca)\n",
        "finaldf = pd.concat([df2, dataset[['TENURE']]], axis=1)\n",
        "\n",
        "\n",
        "nclusters = 3\n",
        "km = KMeans(n_clusters=nclusters)\n",
        "km.fit(x_scaler)\n",
        "y_cluster_kmeans = km.predict(x_scaler)\n",
        "score = metrics.silhouette_score(x_scaler, y_cluster_kmeans)\n",
        "print(\"Silhouette Score After PCA: \", score)"
      ],
      "execution_count": 18,
      "outputs": [
        {
          "output_type": "stream",
          "text": [
            "(8950, 16) (8950,)\n",
            "12    7584\n",
            "11     365\n",
            "10     236\n",
            "6      204\n",
            "8      196\n",
            "7      190\n",
            "9      175\n",
            "Name: TENURE, dtype: int64\n",
            "                                  Null Count\n",
            "Feature                                     \n",
            "MINIMUM_PAYMENTS                         313\n",
            "CREDIT_LIMIT                               1\n",
            "PRC_FULL_PAYMENT                           0\n",
            "PAYMENTS                                   0\n",
            "PURCHASES_TRX                              0\n",
            "CASH_ADVANCE_TRX                           0\n",
            "CASH_ADVANCE_FREQUENCY                     0\n",
            "PURCHASES_INSTALLMENTS_FREQUENCY           0\n",
            "ONEOFF_PURCHASES_FREQUENCY                 0\n",
            "PURCHASES_FREQUENCY                        0\n",
            "CASH_ADVANCE                               0\n",
            "INSTALLMENTS_PURCHASES                     0\n",
            "ONEOFF_PURCHASES                           0\n",
            "PURCHASES                                  0\n",
            "BALANCE_FREQUENCY                          0\n",
            "BALANCE                                    0\n",
            "                                  Null Count\n",
            "Feature                                     \n",
            "PRC_FULL_PAYMENT                           0\n",
            "MINIMUM_PAYMENTS                           0\n",
            "PAYMENTS                                   0\n",
            "CREDIT_LIMIT                               0\n",
            "PURCHASES_TRX                              0\n",
            "CASH_ADVANCE_TRX                           0\n",
            "CASH_ADVANCE_FREQUENCY                     0\n",
            "PURCHASES_INSTALLMENTS_FREQUENCY           0\n",
            "ONEOFF_PURCHASES_FREQUENCY                 0\n",
            "PURCHASES_FREQUENCY                        0\n",
            "CASH_ADVANCE                               0\n",
            "INSTALLMENTS_PURCHASES                     0\n",
            "ONEOFF_PURCHASES                           0\n",
            "PURCHASES                                  0\n",
            "BALANCE_FREQUENCY                          0\n",
            "BALANCE                                    0\n",
            "Silhoutte Score without scaling: 0.4659939734444225\n",
            "Silhoutte Score after scaling: 0.2671095631048621\n"
          ],
          "name": "stdout"
        },
        {
          "output_type": "display_data",
          "data": {
            "image/png": "[encoded data removed]",
            "text/plain": [
              "<Figure size 432x288 with 1 Axes>"
            ]
          },
          "metadata": {
            "tags": []
          }
        },
        {
          "output_type": "stream",
          "text": [
            "Silhouette Score After PCA:  0.2671095631048621\n"
          ],
          "name": "stdout"
        }
      ]
    }
  ]
}